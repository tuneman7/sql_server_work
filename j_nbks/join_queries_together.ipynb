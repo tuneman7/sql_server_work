{
 "cells": [
  {
   "cell_type": "code",
   "execution_count": 27,
   "id": "652bbc30",
   "metadata": {},
   "outputs": [],
   "source": [
    "from libraries.utility import Utility as mutil\n",
    "from libraries.db_base import db_base\n",
    "from libraries.db_ins_fake_data import fake_data_to_db\n",
    "import pandas as pd\n",
    "import pandasql as psql"
   ]
  },
  {
   "cell_type": "code",
   "execution_count": 28,
   "id": "8122d7c9",
   "metadata": {},
   "outputs": [
    {
     "name": "stdout",
     "output_type": "stream",
     "text": [
      "Database : products, Connection Good: True\n"
     ]
    }
   ],
   "source": [
    "dbprod = db_base(\"products\")"
   ]
  },
  {
   "cell_type": "code",
   "execution_count": 29,
   "id": "13f27a32",
   "metadata": {},
   "outputs": [
    {
     "data": {
      "text/html": [
       "<div>\n",
       "<style scoped>\n",
       "    .dataframe tbody tr th:only-of-type {\n",
       "        vertical-align: middle;\n",
       "    }\n",
       "\n",
       "    .dataframe tbody tr th {\n",
       "        vertical-align: top;\n",
       "    }\n",
       "\n",
       "    .dataframe thead th {\n",
       "        text-align: right;\n",
       "    }\n",
       "</style>\n",
       "<table border=\"1\" class=\"dataframe\">\n",
       "  <thead>\n",
       "    <tr style=\"text-align: right;\">\n",
       "      <th></th>\n",
       "      <th>id</th>\n",
       "      <th>product_name</th>\n",
       "      <th>product_type</th>\n",
       "    </tr>\n",
       "  </thead>\n",
       "  <tbody>\n",
       "    <tr>\n",
       "      <th>0</th>\n",
       "      <td>1</td>\n",
       "      <td>Nicholas's Patriotic Duty</td>\n",
       "      <td>Pay TV                                        ...</td>\n",
       "    </tr>\n",
       "    <tr>\n",
       "      <th>1</th>\n",
       "      <td>2</td>\n",
       "      <td>Danielle's Date in the City</td>\n",
       "      <td>Pay TV                                        ...</td>\n",
       "    </tr>\n",
       "    <tr>\n",
       "      <th>2</th>\n",
       "      <td>3</td>\n",
       "      <td>Haley's Big Romance</td>\n",
       "      <td>Pay TV                                        ...</td>\n",
       "    </tr>\n",
       "  </tbody>\n",
       "</table>\n",
       "</div>"
      ],
      "text/plain": [
       "   id                 product_name  \\\n",
       "0   1    Nicholas's Patriotic Duty   \n",
       "1   2  Danielle's Date in the City   \n",
       "2   3          Haley's Big Romance   \n",
       "\n",
       "                                        product_type  \n",
       "0  Pay TV                                        ...  \n",
       "1  Pay TV                                        ...  \n",
       "2  Pay TV                                        ...  "
      ]
     },
     "execution_count": 29,
     "metadata": {},
     "output_type": "execute_result"
    }
   ],
   "source": [
    "prod_info = dbprod.run_query_with_single_df(query_key=\"get_product_info\")\n",
    "prod_info.head(3)"
   ]
  },
  {
   "cell_type": "code",
   "execution_count": 30,
   "id": "b5266ccb",
   "metadata": {},
   "outputs": [
    {
     "name": "stdout",
     "output_type": "stream",
     "text": [
      "Database : finance, Connection Good: True\n"
     ]
    }
   ],
   "source": [
    "dbfin = db_base(\"finance\",svr_type='postsql')"
   ]
  },
  {
   "cell_type": "code",
   "execution_count": 31,
   "id": "198d00bf",
   "metadata": {},
   "outputs": [
    {
     "data": {
      "text/html": [
       "<div>\n",
       "<style scoped>\n",
       "    .dataframe tbody tr th:only-of-type {\n",
       "        vertical-align: middle;\n",
       "    }\n",
       "\n",
       "    .dataframe tbody tr th {\n",
       "        vertical-align: top;\n",
       "    }\n",
       "\n",
       "    .dataframe thead th {\n",
       "        text-align: right;\n",
       "    }\n",
       "</style>\n",
       "<table border=\"1\" class=\"dataframe\">\n",
       "  <thead>\n",
       "    <tr style=\"text-align: right;\">\n",
       "      <th></th>\n",
       "      <th>id</th>\n",
       "      <th>product_id</th>\n",
       "      <th>customer_id</th>\n",
       "      <th>account_id</th>\n",
       "      <th>amt_usd</th>\n",
       "      <th>channel_desc</th>\n",
       "      <th>partner_desc</th>\n",
       "      <th>location_name</th>\n",
       "      <th>account_name</th>\n",
       "      <th>account_type</th>\n",
       "    </tr>\n",
       "  </thead>\n",
       "  <tbody>\n",
       "    <tr>\n",
       "      <th>0</th>\n",
       "      <td>1</td>\n",
       "      <td>5</td>\n",
       "      <td>1</td>\n",
       "      <td>777</td>\n",
       "      <td>$33.38</td>\n",
       "      <td>Streaming Subscription                        ...</td>\n",
       "      <td>Hopkins-Campbell                              ...</td>\n",
       "      <td>Houston</td>\n",
       "      <td>Sell-Through Income Revenue 246506</td>\n",
       "      <td>Revenue</td>\n",
       "    </tr>\n",
       "    <tr>\n",
       "      <th>1</th>\n",
       "      <td>2</td>\n",
       "      <td>277</td>\n",
       "      <td>1</td>\n",
       "      <td>411</td>\n",
       "      <td>$6.62</td>\n",
       "      <td>Home Video Rentals                            ...</td>\n",
       "      <td>Fernandez PLC                                 ...</td>\n",
       "      <td>Houston</td>\n",
       "      <td>Interest Income Revenue 650062</td>\n",
       "      <td>Revenue</td>\n",
       "    </tr>\n",
       "    <tr>\n",
       "      <th>2</th>\n",
       "      <td>3</td>\n",
       "      <td>351</td>\n",
       "      <td>2</td>\n",
       "      <td>355</td>\n",
       "      <td>$23.12</td>\n",
       "      <td>Music Publishing                              ...</td>\n",
       "      <td>Mooney, Gomez and Frederick                   ...</td>\n",
       "      <td>Houston</td>\n",
       "      <td>Rental Income Revenue 677744</td>\n",
       "      <td>Revenue</td>\n",
       "    </tr>\n",
       "  </tbody>\n",
       "</table>\n",
       "</div>"
      ],
      "text/plain": [
       "   id  product_id  customer_id  account_id amt_usd  \\\n",
       "0   1           5            1         777  $33.38   \n",
       "1   2         277            1         411   $6.62   \n",
       "2   3         351            2         355  $23.12   \n",
       "\n",
       "                                        channel_desc  \\\n",
       "0  Streaming Subscription                        ...   \n",
       "1  Home Video Rentals                            ...   \n",
       "2  Music Publishing                              ...   \n",
       "\n",
       "                                        partner_desc location_name  \\\n",
       "0  Hopkins-Campbell                              ...       Houston   \n",
       "1  Fernandez PLC                                 ...       Houston   \n",
       "2  Mooney, Gomez and Frederick                   ...       Houston   \n",
       "\n",
       "                         account_name account_type  \n",
       "0  Sell-Through Income Revenue 246506      Revenue  \n",
       "1      Interest Income Revenue 650062      Revenue  \n",
       "2        Rental Income Revenue 677744      Revenue  "
      ]
     },
     "execution_count": 31,
     "metadata": {},
     "output_type": "execute_result"
    }
   ],
   "source": [
    "fin_account_activity = dbfin.run_query_with_single_df(query_key=\"get_account_activity\")\n",
    "fin_account_activity.head(3)"
   ]
  },
  {
   "cell_type": "code",
   "execution_count": 32,
   "id": "7deca8e1",
   "metadata": {},
   "outputs": [
    {
     "name": "stdout",
     "output_type": "stream",
     "text": [
      "Database : customers, Connection Good: True\n"
     ]
    }
   ],
   "source": [
    "dbcust = db_base(\"customers\",svr_type='mysql')"
   ]
  },
  {
   "cell_type": "code",
   "execution_count": 33,
   "id": "6f692c9e",
   "metadata": {},
   "outputs": [
    {
     "data": {
      "text/html": [
       "<div>\n",
       "<style scoped>\n",
       "    .dataframe tbody tr th:only-of-type {\n",
       "        vertical-align: middle;\n",
       "    }\n",
       "\n",
       "    .dataframe tbody tr th {\n",
       "        vertical-align: top;\n",
       "    }\n",
       "\n",
       "    .dataframe thead th {\n",
       "        text-align: right;\n",
       "    }\n",
       "</style>\n",
       "<table border=\"1\" class=\"dataframe\">\n",
       "  <thead>\n",
       "    <tr style=\"text-align: right;\">\n",
       "      <th></th>\n",
       "      <th>id</th>\n",
       "      <th>f_name</th>\n",
       "      <th>l_name</th>\n",
       "      <th>product_id</th>\n",
       "      <th>purchase_dt</th>\n",
       "      <th>expiration_dt</th>\n",
       "      <th>created_dt</th>\n",
       "    </tr>\n",
       "  </thead>\n",
       "  <tbody>\n",
       "    <tr>\n",
       "      <th>0</th>\n",
       "      <td>1</td>\n",
       "      <td>Craig</td>\n",
       "      <td>Smith</td>\n",
       "      <td>130</td>\n",
       "      <td>2023-09-25 10:44:30</td>\n",
       "      <td>2023-11-24 12:53:05</td>\n",
       "      <td>2023-11-08 04:48:06</td>\n",
       "    </tr>\n",
       "    <tr>\n",
       "      <th>1</th>\n",
       "      <td>1</td>\n",
       "      <td>Craig</td>\n",
       "      <td>Smith</td>\n",
       "      <td>5</td>\n",
       "      <td>2023-07-01 09:39:52</td>\n",
       "      <td>2023-09-14 23:14:29</td>\n",
       "      <td>2023-11-08 04:48:06</td>\n",
       "    </tr>\n",
       "    <tr>\n",
       "      <th>2</th>\n",
       "      <td>1</td>\n",
       "      <td>Craig</td>\n",
       "      <td>Smith</td>\n",
       "      <td>5</td>\n",
       "      <td>2023-06-30 23:14:29</td>\n",
       "      <td>2023-07-01 09:39:52</td>\n",
       "      <td>2023-11-08 04:48:06</td>\n",
       "    </tr>\n",
       "  </tbody>\n",
       "</table>\n",
       "</div>"
      ],
      "text/plain": [
       "   id f_name l_name  product_id         purchase_dt       expiration_dt  \\\n",
       "0   1  Craig  Smith         130 2023-09-25 10:44:30 2023-11-24 12:53:05   \n",
       "1   1  Craig  Smith           5 2023-07-01 09:39:52 2023-09-14 23:14:29   \n",
       "2   1  Craig  Smith           5 2023-06-30 23:14:29 2023-07-01 09:39:52   \n",
       "\n",
       "           created_dt  \n",
       "0 2023-11-08 04:48:06  \n",
       "1 2023-11-08 04:48:06  \n",
       "2 2023-11-08 04:48:06  "
      ]
     },
     "execution_count": 33,
     "metadata": {},
     "output_type": "execute_result"
    }
   ],
   "source": [
    "cust_products = dbcust.run_query_with_single_df(query_key=\"get_customer_product_history1\")\n",
    "cust_products.head(3)"
   ]
  },
  {
   "cell_type": "code",
   "execution_count": null,
   "id": "1a7953a2",
   "metadata": {},
   "outputs": [],
   "source": []
  }
 ],
 "metadata": {
  "kernelspec": {
   "display_name": "Python 3 (ipykernel)",
   "language": "python",
   "name": "python3"
  },
  "language_info": {
   "codemirror_mode": {
    "name": "ipython",
    "version": 3
   },
   "file_extension": ".py",
   "mimetype": "text/x-python",
   "name": "python",
   "nbconvert_exporter": "python",
   "pygments_lexer": "ipython3",
   "version": "3.10.12"
  }
 },
 "nbformat": 4,
 "nbformat_minor": 5
}
