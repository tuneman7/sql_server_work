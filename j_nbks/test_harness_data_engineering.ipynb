{
 "cells": [
  {
   "cell_type": "code",
   "execution_count": 1,
   "id": "652bbc30",
   "metadata": {},
   "outputs": [],
   "source": [
    "from libraries.utility import Utility as mutil\n",
    "from libraries.db_base import db_base\n",
    "from libraries.db_ins_fake_data import fake_data_to_db"
   ]
  },
  {
   "cell_type": "code",
   "execution_count": 2,
   "id": "8122d7c9",
   "metadata": {},
   "outputs": [
    {
     "name": "stdout",
     "output_type": "stream",
     "text": [
      "Database : products, Connection Good: True\n"
     ]
    }
   ],
   "source": [
    "products = db_base(\"products\")"
   ]
  },
  {
   "cell_type": "code",
   "execution_count": 3,
   "id": "7deca8e1",
   "metadata": {},
   "outputs": [
    {
     "name": "stdout",
     "output_type": "stream",
     "text": [
      "Database : customers, Connection Good: True\n"
     ]
    }
   ],
   "source": [
    "customers = db_base(\"customers\",svr_type='mysql')"
   ]
  },
  {
   "cell_type": "code",
   "execution_count": 4,
   "id": "a85b9d0f",
   "metadata": {},
   "outputs": [
    {
     "name": "stdout",
     "output_type": "stream",
     "text": [
      "Database : products, Connection Good: True\n"
     ]
    }
   ],
   "source": [
    "fdi = fake_data_to_db(\"products\",svr_type='mssql')\n",
    "fdi.populate_fake_data(table_name='product_price_history',count=1000)\n"
   ]
  },
  {
   "cell_type": "code",
   "execution_count": 5,
   "id": "50164bb2",
   "metadata": {},
   "outputs": [
    {
     "name": "stdout",
     "output_type": "stream",
     "text": [
      "  country_code  postal_code  place_name admin_name1 admin_code1  \\\n",
      "0           US        99553      Akutan      Alaska          AK   \n",
      "1           US        99571    Cold Bay      Alaska          AK   \n",
      "2           US        99583  False Pass      Alaska          AK   \n",
      "3           US        99612   King Cove      Alaska          AK   \n",
      "4           US        99661  Sand Point      Alaska          AK   \n",
      "\n",
      "      admin_name2  admin_code2 admin_name3  admin_code3  latitude  longitude  \\\n",
      "0  Aleutians East         13.0         NaN          NaN   54.1430  -165.7854   \n",
      "1  Aleutians East         13.0         NaN          NaN   55.1858  -162.7211   \n",
      "2  Aleutians East         13.0         NaN          NaN   54.8542  -163.4113   \n",
      "3  Aleutians East         13.0         NaN          NaN   55.0628  -162.3056   \n",
      "4  Aleutians East         13.0         NaN          NaN   55.3192  -160.4914   \n",
      "\n",
      "   accuracy  \n",
      "0       1.0  \n",
      "1       1.0  \n",
      "2       1.0  \n",
      "3       1.0  \n",
      "4       1.0  \n"
     ]
    }
   ],
   "source": [
    "import pandas as pd\n",
    "import os\n",
    "mu=mutil()\n",
    "\n",
    "file_path = os.path.join(mu.get_this_dir(),\"data\",\"geography\",\"US.txt\")\n",
    "\n",
    "def read_geo_geography_data(file_path):\n",
    "    # Define column headers based on the provided layout\n",
    "    column_headers = [\n",
    "        \"country_code\",\n",
    "        \"postal_code\",\n",
    "        \"place_name\",\n",
    "        \"admin_name1\",\n",
    "        \"admin_code1\",\n",
    "        \"admin_name2\",\n",
    "        \"admin_code2\",\n",
    "        \"admin_name3\",\n",
    "        \"admin_code3\",\n",
    "        \"latitude\",\n",
    "        \"longitude\",\n",
    "        \"accuracy\"\n",
    "    ]\n",
    "\n",
    "    try:\n",
    "        # Read the tab-delimited text file into a dataframe\n",
    "        df = pd.read_csv(file_path, sep='\\t', encoding='utf8', header=None, names=column_headers)\n",
    "\n",
    "        # Optionally, you can perform additional data cleaning or processing here\n",
    "\n",
    "        return df\n",
    "\n",
    "    except Exception as e:\n",
    "        print(f\"Error reading the data: {e}\")\n",
    "        return None\n",
    "\n",
    "# Example usage:\n",
    "\n",
    "geo_geography_df = read_geo_geography_data(file_path)\n",
    "\n",
    "if geo_geography_df is not None:\n",
    "    # You can now work with the dataframe (geo_geography_df) as needed\n",
    "    print(geo_geography_df.head())  # Print the first few rows of the dataframe\n"
   ]
  },
  {
   "cell_type": "code",
   "execution_count": 6,
   "id": "92f24ebe",
   "metadata": {},
   "outputs": [],
   "source": [
    "import pandas as pd\n",
    "import os\n",
    "mu=mutil()\n",
    "\n",
    "file_path = os.path.join(mu.get_this_dir(),\"data\",\"geography\",\"us_population.csv\")"
   ]
  },
  {
   "cell_type": "code",
   "execution_count": 7,
   "id": "0823c539",
   "metadata": {},
   "outputs": [],
   "source": [
    "df = pd.read_csv(file_path, encoding='utf8')"
   ]
  },
  {
   "cell_type": "code",
   "execution_count": 8,
   "id": "44178d40",
   "metadata": {},
   "outputs": [],
   "source": [
    "df.head()\n",
    "df[\"zipcode\"]=df[\"NAME\"].str.replace(\"ZCTA5 \",\"\")"
   ]
  },
  {
   "cell_type": "code",
   "execution_count": 9,
   "id": "3a6b551a",
   "metadata": {},
   "outputs": [
    {
     "data": {
      "text/html": [
       "<div>\n",
       "<style scoped>\n",
       "    .dataframe tbody tr th:only-of-type {\n",
       "        vertical-align: middle;\n",
       "    }\n",
       "\n",
       "    .dataframe tbody tr th {\n",
       "        vertical-align: top;\n",
       "    }\n",
       "\n",
       "    .dataframe thead th {\n",
       "        text-align: right;\n",
       "    }\n",
       "</style>\n",
       "<table border=\"1\" class=\"dataframe\">\n",
       "  <thead>\n",
       "    <tr style=\"text-align: right;\">\n",
       "      <th></th>\n",
       "      <th>zipcode</th>\n",
       "      <th>population</th>\n",
       "      <th>country</th>\n",
       "    </tr>\n",
       "  </thead>\n",
       "  <tbody>\n",
       "    <tr>\n",
       "      <th>0</th>\n",
       "      <td>00601</td>\n",
       "      <td>17242</td>\n",
       "      <td>USA</td>\n",
       "    </tr>\n",
       "    <tr>\n",
       "      <th>1</th>\n",
       "      <td>00602</td>\n",
       "      <td>37548</td>\n",
       "      <td>USA</td>\n",
       "    </tr>\n",
       "    <tr>\n",
       "      <th>2</th>\n",
       "      <td>00603</td>\n",
       "      <td>49804</td>\n",
       "      <td>USA</td>\n",
       "    </tr>\n",
       "    <tr>\n",
       "      <th>3</th>\n",
       "      <td>00606</td>\n",
       "      <td>5009</td>\n",
       "      <td>USA</td>\n",
       "    </tr>\n",
       "    <tr>\n",
       "      <th>4</th>\n",
       "      <td>00610</td>\n",
       "      <td>25731</td>\n",
       "      <td>USA</td>\n",
       "    </tr>\n",
       "  </tbody>\n",
       "</table>\n",
       "</div>"
      ],
      "text/plain": [
       "  zipcode  population country\n",
       "0   00601       17242     USA\n",
       "1   00602       37548     USA\n",
       "2   00603       49804     USA\n",
       "3   00606        5009     USA\n",
       "4   00610       25731     USA"
      ]
     },
     "execution_count": 9,
     "metadata": {},
     "output_type": "execute_result"
    }
   ],
   "source": [
    "df = df.rename(columns={'P1_001N': 'population'})\n",
    "df = df[['zipcode','population']]\n",
    "df[\"country\"] = \"USA\"\n",
    "df.head()"
   ]
  },
  {
   "cell_type": "code",
   "execution_count": 10,
   "id": "b9155478",
   "metadata": {},
   "outputs": [],
   "source": [
    "file_path = os.path.join(mu.get_this_dir(),\"data\",\"geo_geography\",\"cleaned_pop.csv\")"
   ]
  },
  {
   "cell_type": "code",
   "execution_count": 11,
   "id": "5c477a97",
   "metadata": {},
   "outputs": [],
   "source": [
    "#df.to_csv(file_path, index=False)"
   ]
  },
  {
   "cell_type": "code",
   "execution_count": null,
   "id": "b5266ccb",
   "metadata": {},
   "outputs": [],
   "source": []
  }
 ],
 "metadata": {
  "kernelspec": {
   "display_name": "Python 3 (ipykernel)",
   "language": "python",
   "name": "python3"
  },
  "language_info": {
   "codemirror_mode": {
    "name": "ipython",
    "version": 3
   },
   "file_extension": ".py",
   "mimetype": "text/x-python",
   "name": "python",
   "nbconvert_exporter": "python",
   "pygments_lexer": "ipython3",
   "version": "3.10.12"
  }
 },
 "nbformat": 4,
 "nbformat_minor": 5
}
