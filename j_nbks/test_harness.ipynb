{
 "cells": [
  {
   "cell_type": "code",
   "execution_count": 1,
   "id": "652bbc30",
   "metadata": {},
   "outputs": [],
   "source": [
    "from libraries.utility import Utility as mutil\n",
    "from libraries.db_base import db_base\n",
    "from libraries.db_ins_fake_data import fake_data_to_db"
   ]
  },
  {
   "cell_type": "code",
   "execution_count": 2,
   "id": "8122d7c9",
   "metadata": {},
   "outputs": [
    {
     "name": "stdout",
     "output_type": "stream",
     "text": [
      "Database : products, Connection Good: True\n"
     ]
    }
   ],
   "source": [
    "products = db_base(\"products\")"
   ]
  },
  {
   "cell_type": "code",
   "execution_count": 3,
   "id": "7deca8e1",
   "metadata": {},
   "outputs": [
    {
     "name": "stdout",
     "output_type": "stream",
     "text": [
      "Database : customers, Connection Good: True\n"
     ]
    }
   ],
   "source": [
    "customers = db_base(\"customers\",svr_type='mysql')"
   ]
  },
  {
   "cell_type": "code",
   "execution_count": 4,
   "id": "b794c87c",
   "metadata": {},
   "outputs": [
    {
     "name": "stdout",
     "output_type": "stream",
     "text": [
      "Database : products, Connection Good: True\n"
     ]
    },
    {
     "ename": "AttributeError",
     "evalue": "module 'datetime' has no attribute 'now'",
     "output_type": "error",
     "traceback": [
      "\u001b[0;31m---------------------------------------------------------------------------\u001b[0m",
      "\u001b[0;31mAttributeError\u001b[0m                            Traceback (most recent call last)",
      "Cell \u001b[0;32mIn[4], line 2\u001b[0m\n\u001b[1;32m      1\u001b[0m fdi \u001b[38;5;241m=\u001b[39m fake_data_to_db(\u001b[38;5;124m\"\u001b[39m\u001b[38;5;124mproducts\u001b[39m\u001b[38;5;124m\"\u001b[39m,svr_type\u001b[38;5;241m=\u001b[39m\u001b[38;5;124m'\u001b[39m\u001b[38;5;124mmssql\u001b[39m\u001b[38;5;124m'\u001b[39m)\n\u001b[0;32m----> 2\u001b[0m \u001b[43mfdi\u001b[49m\u001b[38;5;241;43m.\u001b[39;49m\u001b[43mpopulate_fake_data\u001b[49m\u001b[43m(\u001b[49m\u001b[43mtable_name\u001b[49m\u001b[38;5;241;43m=\u001b[39;49m\u001b[38;5;124;43m'\u001b[39;49m\u001b[38;5;124;43mproduct_price\u001b[39;49m\u001b[38;5;124;43m'\u001b[39;49m\u001b[43m,\u001b[49m\u001b[43mcount\u001b[49m\u001b[38;5;241;43m=\u001b[39;49m\u001b[38;5;241;43m1000\u001b[39;49m\u001b[43m)\u001b[49m\n",
      "File \u001b[0;32m/data/school/MIDS/sql_server_work/j_nbks/libraries/db_ins_fake_data.py:47\u001b[0m, in \u001b[0;36mfake_data_to_db.populate_fake_data\u001b[0;34m(self, table_name, count)\u001b[0m\n\u001b[1;32m     45\u001b[0m     \u001b[38;5;28;01mreturn\u001b[39;00m \u001b[38;5;28mself\u001b[39m\u001b[38;5;241m.\u001b[39mpopulate_fake_mysql_data(table_name\u001b[38;5;241m=\u001b[39mtable_name,count\u001b[38;5;241m=\u001b[39mcount)\n\u001b[1;32m     46\u001b[0m \u001b[38;5;28;01mif\u001b[39;00m \u001b[38;5;28mself\u001b[39m\u001b[38;5;241m.\u001b[39mSERVERTYPE\u001b[38;5;241m==\u001b[39m\u001b[38;5;124m\"\u001b[39m\u001b[38;5;124mmssql\u001b[39m\u001b[38;5;124m\"\u001b[39m:\n\u001b[0;32m---> 47\u001b[0m     \u001b[38;5;28;01mreturn\u001b[39;00m \u001b[38;5;28;43mself\u001b[39;49m\u001b[38;5;241;43m.\u001b[39;49m\u001b[43mpopulate_fake_mssql_data\u001b[49m\u001b[43m(\u001b[49m\u001b[43mtable_name\u001b[49m\u001b[43m,\u001b[49m\u001b[43mcount\u001b[49m\u001b[43m)\u001b[49m\n",
      "File \u001b[0;32m/data/school/MIDS/sql_server_work/j_nbks/libraries/db_ins_fake_data.py:55\u001b[0m, in \u001b[0;36mfake_data_to_db.populate_fake_mssql_data\u001b[0;34m(self, table_name, count)\u001b[0m\n\u001b[1;32m     53\u001b[0m     \u001b[38;5;28mself\u001b[39m\u001b[38;5;241m.\u001b[39mpopulate_products(count)\n\u001b[1;32m     54\u001b[0m \u001b[38;5;28;01mif\u001b[39;00m table_name\u001b[38;5;241m==\u001b[39m\u001b[38;5;124m\"\u001b[39m\u001b[38;5;124mproduct_price\u001b[39m\u001b[38;5;124m\"\u001b[39m:\n\u001b[0;32m---> 55\u001b[0m     \u001b[38;5;28;43mself\u001b[39;49m\u001b[38;5;241;43m.\u001b[39;49m\u001b[43mpopulate_product_price\u001b[49m\u001b[43m(\u001b[49m\u001b[43m)\u001b[49m\n",
      "File \u001b[0;32m/data/school/MIDS/sql_server_work/j_nbks/libraries/db_ins_fake_data.py:64\u001b[0m, in \u001b[0;36mfake_data_to_db.populate_product_price\u001b[0;34m(self)\u001b[0m\n\u001b[1;32m     62\u001b[0m product_id \u001b[38;5;241m=\u001b[39m l_pids[i]  \u001b[38;5;66;03m# Replace with your product ID logic\u001b[39;00m\n\u001b[1;32m     63\u001b[0m usd_price \u001b[38;5;241m=\u001b[39m \u001b[38;5;28mround\u001b[39m(random\u001b[38;5;241m.\u001b[39muniform(\u001b[38;5;241m2.99\u001b[39m, \u001b[38;5;241m34.99\u001b[39m), \u001b[38;5;241m2\u001b[39m)\n\u001b[0;32m---> 64\u001b[0m pricing_start_dt \u001b[38;5;241m=\u001b[39m \u001b[43mdatetime\u001b[49m\u001b[38;5;241;43m.\u001b[39;49m\u001b[43mnow\u001b[49m() \u001b[38;5;241m-\u001b[39m datetime\u001b[38;5;241m.\u001b[39mtimedelta(days\u001b[38;5;241m=\u001b[39mrandom\u001b[38;5;241m.\u001b[39mrandint(\u001b[38;5;241m1\u001b[39m, \u001b[38;5;241m365\u001b[39m))\n\u001b[1;32m     65\u001b[0m pricing_end_dt \u001b[38;5;241m=\u001b[39m pricing_start_dt \u001b[38;5;241m+\u001b[39m datetime\u001b[38;5;241m.\u001b[39mtimedelta(days\u001b[38;5;241m=\u001b[39m\u001b[38;5;241m365\u001b[39m)\n\u001b[1;32m     67\u001b[0m \u001b[38;5;66;03m# SQL query to insert data\u001b[39;00m\n",
      "\u001b[0;31mAttributeError\u001b[0m: module 'datetime' has no attribute 'now'"
     ]
    }
   ],
   "source": [
    "fdi = fake_data_to_db(\"products\",svr_type='mssql')\n",
    "fdi.populate_fake_data(table_name='product_price',count=1000)\n"
   ]
  },
  {
   "cell_type": "code",
   "execution_count": null,
   "id": "e1bcb1ae",
   "metadata": {},
   "outputs": [],
   "source": []
  }
 ],
 "metadata": {
  "kernelspec": {
   "display_name": "Python 3 (ipykernel)",
   "language": "python",
   "name": "python3"
  },
  "language_info": {
   "codemirror_mode": {
    "name": "ipython",
    "version": 3
   },
   "file_extension": ".py",
   "mimetype": "text/x-python",
   "name": "python",
   "nbconvert_exporter": "python",
   "pygments_lexer": "ipython3",
   "version": "3.10.12"
  }
 },
 "nbformat": 4,
 "nbformat_minor": 5
}
