{
 "cells": [
  {
   "cell_type": "code",
   "execution_count": 1,
   "id": "652bbc30",
   "metadata": {},
   "outputs": [],
   "source": [
    "from libraries.utility import Utility as mutil\n",
    "from libraries.db_base import db_base\n",
    "from libraries.db_ins_fake_data import fake_data_to_db"
   ]
  },
  {
   "cell_type": "code",
   "execution_count": 3,
   "id": "8bc3928d",
   "metadata": {},
   "outputs": [
    {
     "name": "stdout",
     "output_type": "stream",
     "text": [
      "Database : customers, Connection Good: True\n"
     ]
    }
   ],
   "source": [
    "\n"
   ]
  },
  {
   "cell_type": "code",
   "execution_count": null,
   "id": "3e30261c",
   "metadata": {},
   "outputs": [],
   "source": []
  }
 ],
 "metadata": {
  "kernelspec": {
   "display_name": "Python 3 (ipykernel)",
   "language": "python",
   "name": "python3"
  },
  "language_info": {
   "codemirror_mode": {
    "name": "ipython",
    "version": 3
   },
   "file_extension": ".py",
   "mimetype": "text/x-python",
   "name": "python",
   "nbconvert_exporter": "python",
   "pygments_lexer": "ipython3",
   "version": "3.10.12"
  }
 },
 "nbformat": 4,
 "nbformat_minor": 5
}
