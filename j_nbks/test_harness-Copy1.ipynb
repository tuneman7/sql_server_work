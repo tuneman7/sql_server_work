{
 "cells": [
  {
   "cell_type": "code",
   "execution_count": 1,
   "id": "652bbc30",
   "metadata": {},
   "outputs": [],
   "source": [
    "from libraries.utility import Utility as mutil\n",
    "from libraries.db_base import db_base\n",
    "from libraries.db_ins_fake_data import fake_data_to_db"
   ]
  },
  {
   "cell_type": "code",
   "execution_count": null,
   "id": "8122d7c9",
   "metadata": {},
   "outputs": [],
   "source": [
    "products = db_base(\"products\")"
   ]
  },
  {
   "cell_type": "code",
   "execution_count": 2,
   "id": "7deca8e1",
   "metadata": {},
   "outputs": [
    {
     "name": "stdout",
     "output_type": "stream",
     "text": [
      "Database : finance, Connection Good: True\n"
     ]
    }
   ],
   "source": [
    "customers = db_base(\"finance\",svr_type='postsql')"
   ]
  },
  {
   "cell_type": "code",
   "execution_count": null,
   "id": "a85b9d0f",
   "metadata": {},
   "outputs": [],
   "source": [
    "fdi = fake_data_to_db(\"products\",svr_type='mssql')\n",
    "fdi.populate_fake_data(table_name='product_price_history',count=1000)\n"
   ]
  },
  {
   "cell_type": "code",
   "execution_count": null,
   "id": "0823c539",
   "metadata": {},
   "outputs": [],
   "source": []
  }
 ],
 "metadata": {
  "kernelspec": {
   "display_name": "Python 3 (ipykernel)",
   "language": "python",
   "name": "python3"
  },
  "language_info": {
   "codemirror_mode": {
    "name": "ipython",
    "version": 3
   },
   "file_extension": ".py",
   "mimetype": "text/x-python",
   "name": "python",
   "nbconvert_exporter": "python",
   "pygments_lexer": "ipython3",
   "version": "3.10.12"
  }
 },
 "nbformat": 4,
 "nbformat_minor": 5
}
