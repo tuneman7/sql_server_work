{
 "cells": [
  {
   "cell_type": "code",
   "execution_count": 1,
   "id": "652bbc30",
   "metadata": {},
   "outputs": [],
   "source": [
    "from libraries.utility import Utility as mutil\n",
    "from libraries.db_base import db_base\n",
    "from libraries.db_ins_fake_data import fake_data_to_db"
   ]
  },
  {
   "cell_type": "code",
   "execution_count": 2,
   "id": "a85b9d0f",
   "metadata": {},
   "outputs": [
    {
     "name": "stdout",
     "output_type": "stream",
     "text": [
      "Database : finance, Connection Good: True\n"
     ]
    }
   ],
   "source": [
    "finance = fake_data_to_db(\"finance\",svr_type='postsql')"
   ]
  },
  {
   "cell_type": "code",
   "execution_count": 3,
   "id": "0823c539",
   "metadata": {},
   "outputs": [
    {
     "ename": "UndefinedColumn",
     "evalue": "column \"account_code\" of relation \"gl_accounts\" does not exist\nLINE 2: ...           INSERT INTO gl_accounts (account_name, account_co...\n                                                             ^\n",
     "output_type": "error",
     "traceback": [
      "\u001b[0;31m---------------------------------------------------------------------------\u001b[0m",
      "\u001b[0;31mUndefinedColumn\u001b[0m                           Traceback (most recent call last)",
      "Cell \u001b[0;32mIn[3], line 1\u001b[0m\n\u001b[0;32m----> 1\u001b[0m \u001b[43mfinance\u001b[49m\u001b[38;5;241;43m.\u001b[39;49m\u001b[43mpopulate_fake_data\u001b[49m\u001b[43m(\u001b[49m\u001b[43mtable_name\u001b[49m\u001b[38;5;241;43m=\u001b[39;49m\u001b[38;5;124;43m'\u001b[39;49m\u001b[38;5;124;43mgl_accounts\u001b[39;49m\u001b[38;5;124;43m'\u001b[39;49m\u001b[43m,\u001b[49m\u001b[43mcount\u001b[49m\u001b[38;5;241;43m=\u001b[39;49m\u001b[38;5;241;43m800\u001b[39;49m\u001b[43m)\u001b[49m\n",
      "File \u001b[0;32m/data/school/MIDS/sql_server_work/j_nbks/libraries/db_ins_fake_data.py:51\u001b[0m, in \u001b[0;36mfake_data_to_db.populate_fake_data\u001b[0;34m(self, table_name, count)\u001b[0m\n\u001b[1;32m     49\u001b[0m     \u001b[38;5;28;01mreturn\u001b[39;00m \u001b[38;5;28mself\u001b[39m\u001b[38;5;241m.\u001b[39mpopulate_fake_mssql_data(table_name,count)\n\u001b[1;32m     50\u001b[0m \u001b[38;5;28;01mif\u001b[39;00m \u001b[38;5;28mself\u001b[39m\u001b[38;5;241m.\u001b[39mSERVERTYPE\u001b[38;5;241m==\u001b[39m\u001b[38;5;124m\"\u001b[39m\u001b[38;5;124mpostsql\u001b[39m\u001b[38;5;124m\"\u001b[39m:\n\u001b[0;32m---> 51\u001b[0m     \u001b[38;5;28;01mreturn\u001b[39;00m \u001b[38;5;28;43mself\u001b[39;49m\u001b[38;5;241;43m.\u001b[39;49m\u001b[43mpopulate_fake_postsql_data\u001b[49m\u001b[43m(\u001b[49m\u001b[43mtable_name\u001b[49m\u001b[43m,\u001b[49m\u001b[43mcount\u001b[49m\u001b[43m)\u001b[49m\n",
      "File \u001b[0;32m/data/school/MIDS/sql_server_work/j_nbks/libraries/db_ins_fake_data.py:57\u001b[0m, in \u001b[0;36mfake_data_to_db.populate_fake_postsql_data\u001b[0;34m(self, table_name, count)\u001b[0m\n\u001b[1;32m     55\u001b[0m     \u001b[38;5;28mself\u001b[39m\u001b[38;5;241m.\u001b[39mpopulate_geography()\n\u001b[1;32m     56\u001b[0m \u001b[38;5;28;01mif\u001b[39;00m table_name\u001b[38;5;241m==\u001b[39m\u001b[38;5;124m\"\u001b[39m\u001b[38;5;124mgl_accounts\u001b[39m\u001b[38;5;124m\"\u001b[39m:\n\u001b[0;32m---> 57\u001b[0m     \u001b[38;5;28;43mself\u001b[39;49m\u001b[38;5;241;43m.\u001b[39;49m\u001b[43mpopulate_gl_accounts\u001b[49m\u001b[43m(\u001b[49m\u001b[43mcount\u001b[49m\u001b[43m)\u001b[49m\n",
      "File \u001b[0;32m/data/school/MIDS/sql_server_work/j_nbks/libraries/db_ins_fake_data.py:76\u001b[0m, in \u001b[0;36mfake_data_to_db.populate_gl_accounts\u001b[0;34m(self, count)\u001b[0m\n\u001b[1;32m     73\u001b[0m     updated_by \u001b[38;5;241m=\u001b[39m fake\u001b[38;5;241m.\u001b[39mname()\n\u001b[1;32m     75\u001b[0m     \u001b[38;5;66;03m# Insert the generated data into the database\u001b[39;00m\n\u001b[0;32m---> 76\u001b[0m     \u001b[43mcursor\u001b[49m\u001b[38;5;241;43m.\u001b[39;49m\u001b[43mexecute\u001b[49m\u001b[43m(\u001b[49m\n\u001b[1;32m     77\u001b[0m \u001b[38;5;250;43m        \u001b[39;49m\u001b[38;5;124;43;03m\"\"\"\u001b[39;49;00m\n\u001b[1;32m     78\u001b[0m \u001b[38;5;124;43;03m        INSERT INTO gl_accounts (account_name, account_code, account_type, account_balance, created_by, updated_by)\u001b[39;49;00m\n\u001b[1;32m     79\u001b[0m \u001b[38;5;124;43;03m        VALUES (%s, %s, %s, %s, %s, %s)\u001b[39;49;00m\n\u001b[1;32m     80\u001b[0m \u001b[38;5;124;43;03m        \"\"\"\u001b[39;49;00m\u001b[43m,\u001b[49m\n\u001b[1;32m     81\u001b[0m \u001b[43m        \u001b[49m\u001b[43m(\u001b[49m\u001b[43maccount_name\u001b[49m\u001b[43m,\u001b[49m\u001b[43m \u001b[49m\u001b[43maccount_code\u001b[49m\u001b[43m,\u001b[49m\u001b[43m \u001b[49m\u001b[43maccount_type\u001b[49m\u001b[43m,\u001b[49m\u001b[43m \u001b[49m\u001b[43maccount_balance\u001b[49m\u001b[43m,\u001b[49m\u001b[43m \u001b[49m\u001b[43mcreated_by\u001b[49m\u001b[43m,\u001b[49m\u001b[43m \u001b[49m\u001b[43mupdated_by\u001b[49m\u001b[43m)\u001b[49m\n\u001b[1;32m     82\u001b[0m \u001b[43m    \u001b[49m\u001b[43m)\u001b[49m\n\u001b[1;32m     84\u001b[0m conn\u001b[38;5;241m.\u001b[39mcommit()\n\u001b[1;32m     85\u001b[0m cursor\u001b[38;5;241m.\u001b[39mclose()\n",
      "\u001b[0;31mUndefinedColumn\u001b[0m: column \"account_code\" of relation \"gl_accounts\" does not exist\nLINE 2: ...           INSERT INTO gl_accounts (account_name, account_co...\n                                                             ^\n"
     ]
    }
   ],
   "source": [
    "finance.populate_fake_data(table_name='gl_accounts',count=800)"
   ]
  },
  {
   "cell_type": "code",
   "execution_count": null,
   "id": "b385189b",
   "metadata": {},
   "outputs": [],
   "source": []
  }
 ],
 "metadata": {
  "kernelspec": {
   "display_name": "Python 3 (ipykernel)",
   "language": "python",
   "name": "python3"
  },
  "language_info": {
   "codemirror_mode": {
    "name": "ipython",
    "version": 3
   },
   "file_extension": ".py",
   "mimetype": "text/x-python",
   "name": "python",
   "nbconvert_exporter": "python",
   "pygments_lexer": "ipython3",
   "version": "3.10.12"
  }
 },
 "nbformat": 4,
 "nbformat_minor": 5
}
