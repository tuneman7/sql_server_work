{
 "cells": [
  {
   "cell_type": "code",
   "execution_count": 5,
   "id": "5dbe654e",
   "metadata": {},
   "outputs": [],
   "source": [
    "from libraries.utility import Utility as mutil\n",
    "from libraries.db_base import db_base"
   ]
  },
  {
   "cell_type": "code",
   "execution_count": 6,
   "id": "0a669637",
   "metadata": {},
   "outputs": [
    {
     "name": "stdout",
     "output_type": "stream",
     "text": [
      "'products'\n",
      "Database : products, Connection Good: False\n"
     ]
    }
   ],
   "source": [
    "products = db_base(\"products\")"
   ]
  },
  {
   "cell_type": "code",
   "execution_count": null,
   "id": "f070d0fc",
   "metadata": {},
   "outputs": [],
   "source": []
  }
 ],
 "metadata": {
  "kernelspec": {
   "display_name": "Python 3 (ipykernel)",
   "language": "python",
   "name": "python3"
  },
  "language_info": {
   "codemirror_mode": {
    "name": "ipython",
    "version": 3
   },
   "file_extension": ".py",
   "mimetype": "text/x-python",
   "name": "python",
   "nbconvert_exporter": "python",
   "pygments_lexer": "ipython3",
   "version": "3.10.12"
  }
 },
 "nbformat": 4,
 "nbformat_minor": 5
}
